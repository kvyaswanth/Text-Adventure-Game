{
  "nbformat": 4,
  "nbformat_minor": 0,
  "metadata": {
    "colab": {
      "provenance": []
    },
    "kernelspec": {
      "name": "python3",
      "display_name": "Python 3"
    },
    "language_info": {
      "name": "python"
    }
  },
  "cells": [
    {
      "cell_type": "code",
      "execution_count": 1,
      "metadata": {
        "id": "6tOLK8lkB5Uo"
      },
      "outputs": [],
      "source": [
        "# !unzip text_adventure_games.zip"
      ]
    },
    {
      "cell_type": "code",
      "source": [
        "# !apt install graphviz"
      ],
      "metadata": {
        "id": "i8SYPKSqCCZM"
      },
      "execution_count": 2,
      "outputs": []
    },
    {
      "cell_type": "code",
      "source": [
        "from text_adventure_games import games, parsing, actions, things, blocks, viz"
      ],
      "metadata": {
        "id": "evrEFMFSCIoA"
      },
      "execution_count": 3,
      "outputs": []
    },
    {
      "cell_type": "code",
      "source": [
        "# Locations\n",
        "launch_site = things.Location(\n",
        "    \"Launch Site\",\n",
        "    \"You are at the Mars launch site. Your rocket stands nearby, ready for departure.\"\n",
        ")\n",
        "crater = things.Location(\n",
        "    \"Crater\",\n",
        "    \"You are in a large crater. The rocky Martian landscape stretches out around you.\"\n",
        ")\n",
        "abandoned_station = things.Location(\n",
        "    \"Abandoned Research Station\",\n",
        "    \"A derelict facility with potential resources. Dust covers old equipment.\"\n",
        ")\n",
        "olympus_mons = things.Location(\n",
        "    \"Olympus Mons Base Camp\",\n",
        "    \"A small outpost at the base of the massive volcano. The peak looms above.\"\n",
        ")\n",
        "valles_marineris = things.Location(\n",
        "    \"Valles Marineris Canyon\",\n",
        "    \"A deep, winding canyon system. The walls tower above you on both sides.\"\n",
        ")\n",
        "ancient_ruins = things.Location(\n",
        "    \"Ancient Martian Ruins\",\n",
        "    \"Mysterious structures hinting at past civilization. Strange symbols cover the walls.\"\n",
        ")\n",
        "ice_caverns = things.Location(\n",
        "    \"Underground Ice Caverns\",\n",
        "    \"A network of icy caves beneath the surface. The air is frigid and still.\"\n",
        ")\n",
        "phobos_facility = things.Location(\n",
        "    \"Phobos Mining Facility\",\n",
        "    \"A small base on Mars' largest moon. Earth is visible as a tiny blue dot in the sky.\"\n",
        ")\n",
        "\n",
        "# Map connections\n",
        "launch_site.add_connection(\"east\", crater)\n",
        "crater.add_connection(\"west\", launch_site)\n",
        "crater.add_connection(\"north\", olympus_mons)\n",
        "crater.add_connection(\"east\", abandoned_station)\n",
        "olympus_mons.add_connection(\"south\", crater)\n",
        "olympus_mons.add_connection(\"east\", valles_marineris)\n",
        "abandoned_station.add_connection(\"west\", crater)\n",
        "abandoned_station.add_connection(\"south\", ancient_ruins)\n",
        "valles_marineris.add_connection(\"west\", olympus_mons)\n",
        "valles_marineris.add_connection(\"down\", ice_caverns)\n",
        "ancient_ruins.add_connection(\"north\", abandoned_station)\n",
        "ice_caverns.add_connection(\"up\", valles_marineris)\n",
        "phobos_facility.add_connection(\"return\", launch_site)\n",
        "\n",
        "# Ensure bi-directional connections\n",
        "crater.add_connection(\"east\", abandoned_station)\n",
        "abandoned_station.add_connection(\"west\", crater)\n",
        "ancient_ruins.add_connection(\"north\", abandoned_station)\n",
        "abandoned_station.add_connection(\"south\", ancient_ruins)\n",
        "valles_marineris.add_connection(\"down\", ice_caverns)\n",
        "ice_caverns.add_connection(\"up\", valles_marineris)\n",
        "\n",
        "crater.add_connection(\"south\", valles_marineris)\n",
        "valles_marineris.add_connection(\"north\", crater)\n"
      ],
      "metadata": {
        "id": "mHJKYK7KCNNq"
      },
      "execution_count": 4,
      "outputs": []
    },
    {
      "cell_type": "code",
      "source": [
        "# Items\n",
        "map_item = things.Item(\"map\", \"a Martian map\", \"A MAP SHOWING KEY LOCATIONS ON MARS.\")\n",
        "access_key = things.Item(\"key\", \"an Access Key\", \"UNLOCKS SECURE AREAS IN VARIOUS LOCATIONS.\")\n",
        "healer_element = things.Item(\"healer\", \"the Healer Element\", \"A GLOWING SUBSTANCE THAT CAN SAVE EARTH.\")\n",
        "oxygen_recycler = things.Item(\"recycler\", \"an Oxygen Recycler\", \"EXTENDS YOUR EXPLORATION TIME IF REPAIRED.\")\n",
        "radiation_shield = things.Item(\"shield\", \"a Radiation Shield\", \"PROTECTS FROM HARMFUL MARTIAN RADIATION.\")\n",
        "soil_sample = things.Item(\"sample\", \"a Martian Soil Sample\", \"CONTAINS CRUCIAL SCIENTIFIC DATA.\")\n",
        "artifact = things.Item(\"artifact\", \"an Ancient Martian Artifact\", \"HOLDS CLUES TO THE PLANET'S HISTORY.\")\n",
        "shuttle_pass = things.Item(\"pass\", \"a Phobos Shuttle Pass\", \"ALLOWS TRAVEL TO AND FROM PHOBOS.\")\n",
        "\n",
        "# Place items in locations\n",
        "launch_site.add_item(map_item)\n",
        "crater.add_item(oxygen_recycler)\n",
        "olympus_mons.add_item(access_key)\n",
        "valles_marineris.add_item(soil_sample)\n",
        "ancient_ruins.add_item(artifact)\n",
        "ancient_ruins.add_item(shuttle_pass)\n",
        "ice_caverns.add_item(healer_element)\n",
        "phobos_facility.add_item(radiation_shield)\n",
        "valles_marineris.add_item(soil_sample)\n",
        "valles_marineris.add_item(radiation_shield)\n",
        "ice_caverns.add_item(healer_element)"
      ],
      "metadata": {
        "id": "O_GdduygCQek"
      },
      "execution_count": 5,
      "outputs": []
    },
    {
      "cell_type": "code",
      "source": [
        "# Player\n",
        "player = things.Character(\n",
        "    name=\"Astronaut\",\n",
        "    description=\"A brave astronaut on a mission to save Earth.\",\n",
        "    persona=\"I must find the Healer element and return to Earth!\",\n",
        ")"
      ],
      "metadata": {
        "id": "WGIZHN9kCSBP"
      },
      "execution_count": 6,
      "outputs": []
    },
    {
      "cell_type": "code",
      "source": [
        "class LaunchRocket(actions.Action):\n",
        "    ACTION_NAME = \"launch rocket\"\n",
        "    ACTION_DESCRIPTION = \"Launch the rocket to return to Earth\"\n",
        "    ACTION_ALIASES = [\"blast off\", \"return to earth\"]\n",
        "\n",
        "    def __init__(self, game, command):\n",
        "        super().__init__(game)\n",
        "        self.command = command\n",
        "\n",
        "    def check_preconditions(self) -> bool:\n",
        "        if self.game.player.location.name != \"Launch Site\":\n",
        "            self.game.parser.fail(\"You need to be at the Launch Site to launch the rocket.\")\n",
        "            return False\n",
        "\n",
        "        missing_items = []\n",
        "        if \"healer\" not in self.game.player.inventory:\n",
        "            missing_items.append(\"Healer element\")\n",
        "        if \"sample\" not in self.game.player.inventory:\n",
        "            missing_items.append(\"Martian Soil Sample\")\n",
        "        if \"artifact\" not in self.game.player.inventory:\n",
        "            missing_items.append(\"Ancient Martian Artifact\")\n",
        "\n",
        "        if missing_items:\n",
        "            self.game.parser.fail(f\"You're missing the following items: {', '.join(missing_items)}.\")\n",
        "            return False\n",
        "\n",
        "        return True\n",
        "\n",
        "    def apply_effects(self):\n",
        "        self.game.parser.ok(\"You launch the rocket with all necessary items on board. Earth is saved! You win!\")\n",
        "        self.game.player.set_property(\"has_won\", True)"
      ],
      "metadata": {
        "id": "O1FId-oGQvGI"
      },
      "execution_count": 7,
      "outputs": []
    },
    {
      "cell_type": "code",
      "source": [
        "class RepairRecycler(actions.Action):\n",
        "    ACTION_NAME = \"repair recycler\"\n",
        "    ACTION_DESCRIPTION = \"Attempt to repair the Oxygen Recycler\"\n",
        "\n",
        "    def __init__(self, game, command):\n",
        "        super().__init__(game)\n",
        "        self.command = command\n",
        "\n",
        "    def check_preconditions(self) -> bool:\n",
        "        if \"recycler\" not in self.game.player.inventory:\n",
        "            self.game.parser.fail(\"You don't have the Oxygen Recycler.\")\n",
        "            return False\n",
        "        if self.game.player.location.name != \"Abandoned Research Station\":\n",
        "            self.game.parser.fail(\"You need to be at the Abandoned Research Station to repair the recycler.\")\n",
        "            return False\n",
        "        return True\n",
        "\n",
        "    def apply_effects(self):\n",
        "        self.game.parser.ok(\"You successfully repair the Oxygen Recycler, extending your exploration time!\")\n",
        "        self.game.player.set_property(\"extended_oxygen\", True)"
      ],
      "metadata": {
        "id": "9-krtlfNQwVx"
      },
      "execution_count": 8,
      "outputs": []
    },
    {
      "cell_type": "code",
      "source": [
        "# Update the ActivateHealer action\n",
        "class ActivateHealer(actions.Action):\n",
        "    ACTION_NAME = \"activate healer\"\n",
        "    ACTION_DESCRIPTION = \"Activate the Healer Element using the Ancient Martian Artifact\"\n",
        "\n",
        "    def __init__(self, game, command):\n",
        "        super().__init__(game)\n",
        "        self.command = command\n",
        "\n",
        "    def check_preconditions(self) -> bool:\n",
        "        if \"healer\" not in self.game.player.inventory:\n",
        "            self.game.parser.fail(\"You don't have the Healer Element.\")\n",
        "            return False\n",
        "        if \"artifact\" not in self.game.player.inventory:\n",
        "            self.game.parser.fail(\"You need the Ancient Martian Artifact to activate the Healer Element.\")\n",
        "            return False\n",
        "        return True\n",
        "\n",
        "    def apply_effects(self):\n",
        "        self.game.parser.ok(\"You use the Ancient Martian Artifact to activate the Healer Element. It glows with intense energy!\")\n",
        "        self.game.player.set_property(\"healer_activated\", True)"
      ],
      "metadata": {
        "id": "m1fjVNw4Qx0T"
      },
      "execution_count": 9,
      "outputs": []
    },
    {
      "cell_type": "code",
      "source": [
        "# Update the VolcanicPressurePuzzle block\n",
        "class VolcanicPressurePuzzle(blocks.Block):\n",
        "    def __init__(self, location: things.Location, game: games.Game):\n",
        "        super().__init__(\"The access to the base camp is blocked by a pressure lock\", \"You need to solve the volcanic pressure puzzle to enter.\")\n",
        "        self.location = location\n",
        "        self.game = game\n",
        "\n",
        "    def is_blocked(self) -> bool:\n",
        "        return not self.game.player.get_property(\"solved_pressure_puzzle\")"
      ],
      "metadata": {
        "id": "THdhJTE5Qy9b"
      },
      "execution_count": 10,
      "outputs": []
    },
    {
      "cell_type": "code",
      "source": [
        "class RadiationBarrier(blocks.Block):\n",
        "    def __init__(self, location: things.Location, game: games.Game):\n",
        "        super().__init__(\"Intense radiation blocks your path\", \"You need protection from the radiation to proceed.\")\n",
        "        self.location = location\n",
        "        self.game = game\n",
        "\n",
        "    def is_blocked(self) -> bool:\n",
        "        return \"shield\" not in self.game.player.inventory"
      ],
      "metadata": {
        "id": "e8b1n2XDQ0D6"
      },
      "execution_count": 11,
      "outputs": []
    },
    {
      "cell_type": "code",
      "source": [
        "# Add a solve puzzle action\n",
        "class SolvePressurePuzzle(actions.Action):\n",
        "    ACTION_NAME = \"solve puzzle\"\n",
        "    ACTION_DESCRIPTION = \"Solve the volcanic pressure puzzle\"\n",
        "\n",
        "    def __init__(self, game, command):\n",
        "        super().__init__(game)\n",
        "        self.command = command\n",
        "\n",
        "    def check_preconditions(self) -> bool:\n",
        "        return self.game.player.location.name == \"Crater\"\n",
        "\n",
        "    def apply_effects(self):\n",
        "        self.game.player.set_property(\"solved_pressure_puzzle\", True)\n",
        "        self.game.parser.ok(\"You solved the volcanic pressure puzzle!\")"
      ],
      "metadata": {
        "id": "MMrYbdSRUW49"
      },
      "execution_count": 12,
      "outputs": []
    },
    {
      "cell_type": "code",
      "source": [
        "class EscapeMars(games.Game):\n",
        "    def __init__(self, start_at: things.Location, player: things.Character, custom_actions=None):\n",
        "        super().__init__(start_at, player, custom_actions=custom_actions)\n",
        "\n",
        "        # Add blocks\n",
        "        olympus_mons_block = VolcanicPressurePuzzle(olympus_mons, self)\n",
        "        crater.add_block(\"north\", olympus_mons_block)\n",
        "\n",
        "        radiation_block = RadiationBarrier(valles_marineris, self)\n",
        "        olympus_mons.add_block(\"east\", radiation_block)\n",
        "\n",
        "    def is_won(self) -> bool:\n",
        "        has_won = self.player.get_property(\"has_won\")\n",
        "        return has_won is True\n",
        "\n",
        "    def game_loop(self):\n",
        "        self.parser.parse_command(\"look\")\n",
        "\n",
        "        while True:\n",
        "            command = input(\"\\n> \")\n",
        "            commands = [cmd.strip() for cmd in command.split(',')]\n",
        "            for cmd in commands:\n",
        "                try:\n",
        "                    self.parser.parse_command(cmd)\n",
        "                except Exception as e:\n",
        "                    print(f\"Error processing command '{cmd}': {str(e)}\")\n",
        "                if self.is_won() or self.is_game_over():\n",
        "                    return"
      ],
      "metadata": {
        "id": "DUZETU1LCUma"
      },
      "execution_count": 13,
      "outputs": []
    },
    {
      "cell_type": "code",
      "source": [
        "custom_actions = [LaunchRocket, RepairRecycler, ActivateHealer, SolvePressurePuzzle]\n",
        "game = EscapeMars(launch_site, player, custom_actions=custom_actions)\n",
        "\n",
        "# Start the game\n",
        "game.game_loop()\n",
        "\n",
        "# take map, go east, take recycler, go east, repair recycler, go south, take artifact, take pass, go north, go west, go north, take key, go south, go east, take shield, go east, take sample, go down, take healer, activate healer, go up, go west, go west, go west, go west, launch rocket"
      ],
      "metadata": {
        "id": "qaSQ_roXCWw_",
        "colab": {
          "base_uri": "https://localhost:8080/"
        },
        "outputId": "cdf49c5d-dc7f-433e-bafc-03c4fe766556"
      },
      "execution_count": 14,
      "outputs": [
        {
          "output_type": "stream",
          "name": "stdout",
          "text": [
            "You are at the Mars launch site. Your rocket stands nearby, ready for departure.\n",
            "Exits:\n",
            "East to Crater\n",
            "\n",
            "You see:\n",
            " * a Martian map\n",
            "\n",
            "\n",
            "\n",
            "> take map, go east, take recycler, go east, repair recycler, go south, take artifact, go north, go west, solve puzzle, go north, take key, go south, go south, take sample, take shield, go down, take healer, go up, go north, go west, launch rocket\n",
            "Astronaut got the map.\n",
            "You are in a large crater. The rocky Martian landscape stretches out around you.\n",
            "Exits:\n",
            "West to Launch Site\n",
            "North to Olympus Mons Base Camp\n",
            "East to Abandoned Research Station\n",
            "South to Valles Marineris Canyon\n",
            "\n",
            "You see:\n",
            " * an Oxygen Recycler\n",
            "\n",
            "\n",
            "Astronaut got the recycler.\n",
            "A derelict facility with potential resources. Dust covers old equipment.\n",
            "Exits:\n",
            "West to Crater\n",
            "South to Ancient Martian Ruins\n",
            "\n",
            "\n",
            "\n",
            "\n",
            "You successfully repair the Oxygen Recycler, extending your exploration time!\n",
            "Mysterious structures hinting at past civilization. Strange symbols cover the\n",
            "walls.\n",
            "Exits:\n",
            "North to Abandoned Research Station\n",
            "\n",
            "You see:\n",
            " * an Ancient Martian Artifact\n",
            " * a Phobos Shuttle Pass\n",
            "\n",
            "\n",
            "Astronaut got the artifact.\n",
            "A derelict facility with potential resources. Dust covers old equipment.\n",
            "Exits:\n",
            "West to Crater\n",
            "South to Ancient Martian Ruins\n",
            "\n",
            "\n",
            "\n",
            "\n",
            "You are in a large crater. The rocky Martian landscape stretches out around you.\n",
            "Exits:\n",
            "West to Launch Site\n",
            "North to Olympus Mons Base Camp\n",
            "East to Abandoned Research Station\n",
            "South to Valles Marineris Canyon\n",
            "\n",
            "\n",
            "\n",
            "\n",
            "You solved the volcanic pressure puzzle!\n",
            "A small outpost at the base of the massive volcano. The peak looms above.\n",
            "Exits:\n",
            "South to Crater\n",
            "East to Valles Marineris Canyon\n",
            "\n",
            "You see:\n",
            " * an Access Key\n",
            "\n",
            "\n",
            "Astronaut got the key.\n",
            "You are in a large crater. The rocky Martian landscape stretches out around you.\n",
            "Exits:\n",
            "West to Launch Site\n",
            "North to Olympus Mons Base Camp\n",
            "East to Abandoned Research Station\n",
            "South to Valles Marineris Canyon\n",
            "\n",
            "\n",
            "\n",
            "\n",
            "A deep, winding canyon system. The walls tower above you on both sides.\n",
            "Exits:\n",
            "West to Olympus Mons Base Camp\n",
            "Down to Underground Ice Caverns\n",
            "North to Crater\n",
            "\n",
            "You see:\n",
            " * a Martian Soil Sample\n",
            " * a Radiation Shield\n",
            "\n",
            "\n",
            "Astronaut got the sample.\n",
            "Astronaut got the shield.\n",
            "A network of icy caves beneath the surface. The air is frigid and still.\n",
            "Exits:\n",
            "Up to Valles Marineris Canyon\n",
            "\n",
            "You see:\n",
            " * the Healer Element\n",
            "\n",
            "\n",
            "Astronaut got the healer.\n",
            "A deep, winding canyon system. The walls tower above you on both sides.\n",
            "Exits:\n",
            "West to Olympus Mons Base Camp\n",
            "Down to Underground Ice Caverns\n",
            "North to Crater\n",
            "\n",
            "\n",
            "\n",
            "\n",
            "You are in a large crater. The rocky Martian landscape stretches out around you.\n",
            "Exits:\n",
            "West to Launch Site\n",
            "North to Olympus Mons Base Camp\n",
            "East to Abandoned Research Station\n",
            "South to Valles Marineris Canyon\n",
            "\n",
            "\n",
            "\n",
            "\n",
            "You are at the Mars launch site. Your rocket stands nearby, ready for departure.\n",
            "Exits:\n",
            "East to Crater\n",
            "\n",
            "\n",
            "\n",
            "\n",
            "You launch the rocket with all necessary items on board. Earth is saved! You\n",
            "win!\n"
          ]
        }
      ]
    },
    {
      "cell_type": "code",
      "source": [
        "from text_adventure_games.viz import Visualizer\n",
        "viz = Visualizer(game)\n",
        "graph = viz.visualize()\n",
        "graph"
      ],
      "metadata": {
        "id": "UiRUZkBmCcC-",
        "colab": {
          "base_uri": "https://localhost:8080/",
          "height": 661
        },
        "outputId": "2df98a39-1e3e-443e-92d6-d74850f78c27"
      },
      "execution_count": 15,
      "outputs": [
        {
          "output_type": "execute_result",
          "data": {
            "image/svg+xml": "<?xml version=\"1.0\" encoding=\"UTF-8\" standalone=\"no\"?>\n<!DOCTYPE svg PUBLIC \"-//W3C//DTD SVG 1.1//EN\"\n \"http://www.w3.org/Graphics/SVG/1.1/DTD/svg11.dtd\">\n<!-- Generated by graphviz version 2.43.0 (0)\n -->\n<!-- Title: %3 Pages: 1 -->\n<svg width=\"1870pt\" height=\"464pt\"\n viewBox=\"0.00 0.00 1870.23 463.64\" xmlns=\"http://www.w3.org/2000/svg\" xmlns:xlink=\"http://www.w3.org/1999/xlink\">\n<g id=\"graph0\" class=\"graph\" transform=\"scale(1 1) rotate(0) translate(4 459.64)\">\n<title>%3</title>\n<polygon fill=\"white\" stroke=\"transparent\" points=\"-4,4 -4,-459.64 1866.23,-459.64 1866.23,4 -4,4\"/>\n<!-- Launch Site -->\n<g id=\"node1\" class=\"node\">\n<title>Launch Site</title>\n<ellipse fill=\"#b2dfee\" stroke=\"#b2dfee\" cx=\"904.93\" cy=\"-410.39\" rx=\"319.72\" ry=\"45.01\"/>\n<text text-anchor=\"start\" x=\"869.93\" y=\"-428.19\" font-family=\"Times,serif\" font-weight=\"bold\" font-size=\"14.00\">Launch Site</text>\n<text text-anchor=\"start\" x=\"686.93\" y=\"-414.19\" font-family=\"Times,serif\" font-size=\"14.00\">You are at the Mars launch site. Your rocket stands nearby, ready for departure.</text>\n<text text-anchor=\"start\" x=\"902.93\" y=\"-400.19\" font-family=\"Times,serif\" font-size=\"14.00\"> </text>\n<text text-anchor=\"start\" x=\"845.93\" y=\"-386.19\" font-family=\"Times,serif\" font-size=\"14.00\">Characters: Astronaut</text>\n</g>\n<!-- Crater -->\n<g id=\"node2\" class=\"node\">\n<title>Crater</title>\n<ellipse fill=\"#b2dfee\" stroke=\"#b2dfee\" cx=\"904.93\" cy=\"-278.78\" rx=\"321.97\" ry=\"35.21\"/>\n<text text-anchor=\"start\" x=\"884.93\" y=\"-289.58\" font-family=\"Times,serif\" font-weight=\"bold\" font-size=\"14.00\">Crater</text>\n<text text-anchor=\"start\" x=\"685.43\" y=\"-275.58\" font-family=\"Times,serif\" font-size=\"14.00\">You are in a large crater. The rocky Martian landscape stretches out around you.</text>\n<text text-anchor=\"start\" x=\"902.93\" y=\"-261.58\" font-family=\"Times,serif\" font-size=\"14.00\"> </text>\n</g>\n<!-- Launch Site&#45;&gt;Crater -->\n<g id=\"edge1\" class=\"edge\">\n<title>Launch Site&#45;&gt;Crater</title>\n<path fill=\"none\" stroke=\"black\" d=\"M884.8,-365.15C882.01,-354.42 880.75,-342.93 882.93,-332.13 883.46,-329.46 884.14,-326.76 884.93,-324.06\"/>\n<polygon fill=\"black\" stroke=\"black\" points=\"888.31,-324.96 888.15,-314.37 881.67,-322.75 888.31,-324.96\"/>\n<text text-anchor=\"middle\" x=\"894.93\" y=\"-335.93\" font-family=\"Times,serif\" font-size=\"14.00\">East</text>\n</g>\n<!-- Crater&#45;&gt;Launch Site -->\n<g id=\"edge2\" class=\"edge\">\n<title>Crater&#45;&gt;Launch Site</title>\n<path fill=\"none\" stroke=\"black\" d=\"M906.44,-314.41C906.64,-320.32 906.82,-326.4 906.93,-332.13 907.07,-339.42 907.06,-347.09 906.95,-354.66\"/>\n<polygon fill=\"black\" stroke=\"black\" points=\"903.45,-354.8 906.76,-364.86 910.45,-354.93 903.45,-354.8\"/>\n<text text-anchor=\"middle\" x=\"921.93\" y=\"-335.93\" font-family=\"Times,serif\" font-size=\"14.00\">West</text>\n</g>\n<!-- Olympus Mons Base Camp -->\n<g id=\"node3\" class=\"node\">\n<title>Olympus Mons Base Camp</title>\n<ellipse fill=\"#b2dfee\" stroke=\"#b2dfee\" cx=\"982.93\" cy=\"-35.36\" rx=\"302.78\" ry=\"35.21\"/>\n<text text-anchor=\"start\" x=\"901.93\" y=\"-46.16\" font-family=\"Times,serif\" font-weight=\"bold\" font-size=\"14.00\">Olympus Mons Base Camp</text>\n<text text-anchor=\"start\" x=\"776.93\" y=\"-32.16\" font-family=\"Times,serif\" font-size=\"14.00\">A small outpost at the base of the massive volcano. The peak looms above.</text>\n<text text-anchor=\"start\" x=\"980.93\" y=\"-18.16\" font-family=\"Times,serif\" font-size=\"14.00\"> </text>\n</g>\n<!-- Crater&#45;&gt;Olympus Mons Base Camp -->\n<g id=\"edge3\" class=\"edge\">\n<title>Crater&#45;&gt;Olympus Mons Base Camp</title>\n<path fill=\"none\" stroke=\"black\" d=\"M913.15,-243.32C921.06,-211.45 933.85,-162.94 947.93,-121.71 952.59,-108.05 958.31,-93.43 963.76,-80.22\"/>\n<polygon fill=\"black\" stroke=\"black\" points=\"967.04,-81.46 967.66,-70.88 960.58,-78.76 967.04,-81.46\"/>\n<text text-anchor=\"middle\" x=\"963.93\" y=\"-153.37\" font-family=\"Times,serif\" font-size=\"14.00\">North</text>\n</g>\n<!-- Abandoned Research Station -->\n<g id=\"node4\" class=\"node\">\n<title>Abandoned Research Station</title>\n<ellipse fill=\"#b2dfee\" stroke=\"#b2dfee\" cx=\"537.93\" cy=\"-157.07\" rx=\"285.84\" ry=\"35.21\"/>\n<text text-anchor=\"start\" x=\"453.43\" y=\"-167.87\" font-family=\"Times,serif\" font-weight=\"bold\" font-size=\"14.00\">Abandoned Research Station</text>\n<text text-anchor=\"start\" x=\"343.93\" y=\"-153.87\" font-family=\"Times,serif\" font-size=\"14.00\">A derelict facility with potential resources. Dust covers old equipment.</text>\n<text text-anchor=\"start\" x=\"535.93\" y=\"-139.87\" font-family=\"Times,serif\" font-size=\"14.00\"> </text>\n</g>\n<!-- Crater&#45;&gt;Abandoned Research Station -->\n<g id=\"edge4\" class=\"edge\">\n<title>Crater&#45;&gt;Abandoned Research Station</title>\n<path fill=\"none\" stroke=\"black\" d=\"M804.64,-245.07C755.59,-229.07 696.48,-209.79 646.39,-193.44\"/>\n<polygon fill=\"black\" stroke=\"black\" points=\"647.41,-190.1 636.82,-190.32 645.24,-196.75 647.41,-190.1\"/>\n<text text-anchor=\"middle\" x=\"755.93\" y=\"-214.22\" font-family=\"Times,serif\" font-size=\"14.00\">East</text>\n</g>\n<!-- Valles Marineris Canyon -->\n<g id=\"node5\" class=\"node\">\n<title>Valles Marineris Canyon</title>\n<ellipse fill=\"#b2dfee\" stroke=\"#b2dfee\" cx=\"1289.93\" cy=\"-157.07\" rx=\"300.54\" ry=\"35.21\"/>\n<text text-anchor=\"start\" x=\"1216.93\" y=\"-167.87\" font-family=\"Times,serif\" font-weight=\"bold\" font-size=\"14.00\">Valles Marineris Canyon</text>\n<text text-anchor=\"start\" x=\"1085.43\" y=\"-153.87\" font-family=\"Times,serif\" font-size=\"14.00\">A deep, winding canyon system. The walls tower above you on both sides.</text>\n<text text-anchor=\"start\" x=\"1287.93\" y=\"-139.87\" font-family=\"Times,serif\" font-size=\"14.00\"> </text>\n</g>\n<!-- Crater&#45;&gt;Valles Marineris Canyon -->\n<g id=\"edge5\" class=\"edge\">\n<title>Crater&#45;&gt;Valles Marineris Canyon</title>\n<path fill=\"none\" stroke=\"black\" d=\"M1009.37,-245.3C1061.04,-229.23 1123.51,-209.81 1176.37,-193.38\"/>\n<polygon fill=\"black\" stroke=\"black\" points=\"1177.61,-196.65 1186.12,-190.34 1175.53,-189.97 1177.61,-196.65\"/>\n<text text-anchor=\"middle\" x=\"1135.93\" y=\"-214.22\" font-family=\"Times,serif\" font-size=\"14.00\">South</text>\n</g>\n<!-- Olympus Mons Base Camp&#45;&gt;Crater -->\n<g id=\"edge6\" class=\"edge\">\n<title>Olympus Mons Base Camp&#45;&gt;Crater</title>\n<path fill=\"none\" stroke=\"black\" d=\"M932.8,-70.26C916.62,-84.11 900.62,-101.64 891.93,-121.71 876.62,-157.06 882.23,-201.08 890.3,-233.34\"/>\n<polygon fill=\"black\" stroke=\"black\" points=\"887.02,-234.63 892.99,-243.38 893.79,-232.82 887.02,-234.63\"/>\n<text text-anchor=\"middle\" x=\"907.93\" y=\"-153.37\" font-family=\"Times,serif\" font-size=\"14.00\">South</text>\n</g>\n<!-- Olympus Mons Base Camp&#45;&gt;Valles Marineris Canyon -->\n<g id=\"edge7\" class=\"edge\">\n<title>Olympus Mons Base Camp&#45;&gt;Valles Marineris Canyon</title>\n<path fill=\"none\" stroke=\"black\" d=\"M1067.62,-69.38C1107.38,-84.88 1154.91,-103.42 1195.8,-119.36\"/>\n<polygon fill=\"black\" stroke=\"black\" points=\"1194.64,-122.67 1205.22,-123.04 1197.18,-116.14 1194.64,-122.67\"/>\n<text text-anchor=\"middle\" x=\"1165.93\" y=\"-92.51\" font-family=\"Times,serif\" font-size=\"14.00\">East</text>\n</g>\n<!-- Abandoned Research Station&#45;&gt;Crater -->\n<g id=\"edge8\" class=\"edge\">\n<title>Abandoned Research Station&#45;&gt;Crater</title>\n<path fill=\"none\" stroke=\"black\" d=\"M595.03,-191.75C617.21,-203.73 643.19,-216.46 667.93,-225.42 688.89,-233.02 711.31,-239.71 733.7,-245.55\"/>\n<polygon fill=\"black\" stroke=\"black\" points=\"733.07,-249.01 743.63,-248.09 734.81,-242.22 733.07,-249.01\"/>\n<text text-anchor=\"middle\" x=\"681.93\" y=\"-214.22\" font-family=\"Times,serif\" font-size=\"14.00\">West</text>\n</g>\n<!-- Ancient Martian Ruins -->\n<g id=\"node6\" class=\"node\">\n<title>Ancient Martian Ruins</title>\n<ellipse fill=\"#b2dfee\" stroke=\"#b2dfee\" cx=\"330.93\" cy=\"-35.36\" rx=\"330.85\" ry=\"35.21\"/>\n<text text-anchor=\"start\" x=\"262.93\" y=\"-46.16\" font-family=\"Times,serif\" font-weight=\"bold\" font-size=\"14.00\">Ancient Martian Ruins</text>\n<text text-anchor=\"start\" x=\"104.93\" y=\"-32.16\" font-family=\"Times,serif\" font-size=\"14.00\">Mysterious structures hinting at past civilization. Strange symbols cover the walls.</text>\n<text text-anchor=\"start\" x=\"243.43\" y=\"-18.16\" font-family=\"Times,serif\" font-size=\"14.00\">You see: a Phobos Shuttle Pass </text>\n</g>\n<!-- Abandoned Research Station&#45;&gt;Ancient Martian Ruins -->\n<g id=\"edge9\" class=\"edge\">\n<title>Abandoned Research Station&#45;&gt;Ancient Martian Ruins</title>\n<path fill=\"none\" stroke=\"black\" d=\"M479.71,-122.4C454.36,-107.74 424.49,-90.46 398.19,-75.25\"/>\n<polygon fill=\"black\" stroke=\"black\" points=\"399.83,-72.16 389.42,-70.18 396.32,-78.22 399.83,-72.16\"/>\n<text text-anchor=\"middle\" x=\"462.93\" y=\"-92.51\" font-family=\"Times,serif\" font-size=\"14.00\">South</text>\n</g>\n<!-- Valles Marineris Canyon&#45;&gt;Crater -->\n<g id=\"edge12\" class=\"edge\">\n<title>Valles Marineris Canyon&#45;&gt;Crater</title>\n<path fill=\"none\" stroke=\"black\" d=\"M1231.01,-191.84C1208.14,-203.83 1181.37,-216.54 1155.93,-225.42 1133.21,-233.35 1108.89,-240.26 1084.67,-246.24\"/>\n<polygon fill=\"black\" stroke=\"black\" points=\"1083.57,-242.9 1074.67,-248.65 1085.21,-249.71 1083.57,-242.9\"/>\n<text text-anchor=\"middle\" x=\"1205.93\" y=\"-214.22\" font-family=\"Times,serif\" font-size=\"14.00\">North</text>\n</g>\n<!-- Valles Marineris Canyon&#45;&gt;Olympus Mons Base Camp -->\n<g id=\"edge10\" class=\"edge\">\n<title>Valles Marineris Canyon&#45;&gt;Olympus Mons Base Camp</title>\n<path fill=\"none\" stroke=\"black\" d=\"M1147.42,-125.91C1126.42,-119.63 1105.33,-112.26 1085.93,-103.71 1069.02,-96.26 1051.78,-86.15 1036.36,-76.04\"/>\n<polygon fill=\"black\" stroke=\"black\" points=\"1038.25,-73.09 1028,-70.44 1034.36,-78.91 1038.25,-73.09\"/>\n<text text-anchor=\"middle\" x=\"1099.93\" y=\"-92.51\" font-family=\"Times,serif\" font-size=\"14.00\">West</text>\n</g>\n<!-- Underground Ice Caverns -->\n<g id=\"node7\" class=\"node\">\n<title>Underground Ice Caverns</title>\n<ellipse fill=\"#b2dfee\" stroke=\"#b2dfee\" cx=\"1582.93\" cy=\"-35.36\" rx=\"279.11\" ry=\"35.21\"/>\n<text text-anchor=\"start\" x=\"1506.93\" y=\"-46.16\" font-family=\"Times,serif\" font-weight=\"bold\" font-size=\"14.00\">Underground Ice Caverns</text>\n<text text-anchor=\"start\" x=\"1393.43\" y=\"-32.16\" font-family=\"Times,serif\" font-size=\"14.00\">A network of icy caves beneath the surface. The air is frigid and still.</text>\n<text text-anchor=\"start\" x=\"1580.93\" y=\"-18.16\" font-family=\"Times,serif\" font-size=\"14.00\"> </text>\n</g>\n<!-- Valles Marineris Canyon&#45;&gt;Underground Ice Caverns -->\n<g id=\"edge11\" class=\"edge\">\n<title>Valles Marineris Canyon&#45;&gt;Underground Ice Caverns</title>\n<path fill=\"none\" stroke=\"black\" d=\"M1371.15,-122.88C1408.86,-107.47 1453.81,-89.11 1492.59,-73.27\"/>\n<polygon fill=\"black\" stroke=\"black\" points=\"1494.37,-76.32 1502.3,-69.3 1491.72,-69.84 1494.37,-76.32\"/>\n<text text-anchor=\"middle\" x=\"1470.93\" y=\"-92.51\" font-family=\"Times,serif\" font-size=\"14.00\">Down</text>\n</g>\n<!-- Ancient Martian Ruins&#45;&gt;Abandoned Research Station -->\n<g id=\"edge13\" class=\"edge\">\n<title>Ancient Martian Ruins&#45;&gt;Abandoned Research Station</title>\n<path fill=\"none\" stroke=\"black\" d=\"M353.76,-70.92C362.92,-82.64 374.3,-94.97 386.93,-103.71 395.75,-109.82 405.35,-115.27 415.29,-120.13\"/>\n<polygon fill=\"black\" stroke=\"black\" points=\"413.97,-123.38 424.51,-124.44 416.93,-117.04 413.97,-123.38\"/>\n<text text-anchor=\"middle\" x=\"402.93\" y=\"-92.51\" font-family=\"Times,serif\" font-size=\"14.00\">North</text>\n</g>\n<!-- Underground Ice Caverns&#45;&gt;Valles Marineris Canyon -->\n<g id=\"edge14\" class=\"edge\">\n<title>Underground Ice Caverns&#45;&gt;Valles Marineris Canyon</title>\n<path fill=\"none\" stroke=\"black\" d=\"M1543.84,-70.43C1528.5,-82.38 1510.2,-94.99 1491.93,-103.71 1476.76,-110.95 1460.45,-117.29 1443.92,-122.81\"/>\n<polygon fill=\"black\" stroke=\"black\" points=\"1442.6,-119.56 1434.17,-125.97 1444.76,-126.22 1442.6,-119.56\"/>\n<text text-anchor=\"middle\" x=\"1524.43\" y=\"-92.51\" font-family=\"Times,serif\" font-size=\"14.00\">Up</text>\n</g>\n</g>\n</svg>\n",
            "text/plain": [
              "<graphviz.graphs.Digraph at 0x7df4043824a0>"
            ]
          },
          "metadata": {},
          "execution_count": 15
        }
      ]
    },
    {
      "cell_type": "code",
      "source": [
        "graph.render(\"escape_mars_map\", format=\"svg\", cleanup=True)"
      ],
      "metadata": {
        "colab": {
          "base_uri": "https://localhost:8080/",
          "height": 36
        },
        "id": "Osd1P58oivV0",
        "outputId": "27a95310-cc62-41fb-a4a8-fff87297d002"
      },
      "execution_count": 16,
      "outputs": [
        {
          "output_type": "execute_result",
          "data": {
            "text/plain": [
              "'escape_mars_map.svg'"
            ],
            "application/vnd.google.colaboratory.intrinsic+json": {
              "type": "string"
            }
          },
          "metadata": {},
          "execution_count": 16
        }
      ]
    },
    {
      "cell_type": "code",
      "source": [],
      "metadata": {
        "id": "NY1ksqIsjAkh"
      },
      "execution_count": 16,
      "outputs": []
    }
  ]
}