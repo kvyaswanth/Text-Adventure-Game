{
  "nbformat": 4,
  "nbformat_minor": 0,
  "metadata": {
    "colab": {
      "provenance": []
    },
    "kernelspec": {
      "name": "python3",
      "display_name": "Python 3"
    },
    "language_info": {
      "name": "python"
    }
  },
  "cells": [
    {
      "cell_type": "code",
      "execution_count": null,
      "metadata": {
        "id": "6tOLK8lkB5Uo"
      },
      "outputs": [],
      "source": [
        "!unzip text_adventure_games.zip"
      ]
    },
    {
      "cell_type": "code",
      "source": [
        "!apt install graphviz"
      ],
      "metadata": {
        "colab": {
          "base_uri": "https://localhost:8080/"
        },
        "id": "i8SYPKSqCCZM",
        "outputId": "a7f6b901-1b7a-4393-ff99-24f5cd9a6faf"
      },
      "execution_count": null,
      "outputs": [
        {
          "output_type": "stream",
          "name": "stdout",
          "text": [
            "Reading package lists... Done\n",
            "Building dependency tree... Done\n",
            "Reading state information... Done\n",
            "graphviz is already the newest version (2.42.2-6ubuntu0.1).\n",
            "0 upgraded, 0 newly installed, 0 to remove and 49 not upgraded.\n"
          ]
        }
      ]
    },
    {
      "cell_type": "code",
      "source": [
        "from text_adventure_games import games, parsing, actions, things, blocks, viz"
      ],
      "metadata": {
        "id": "evrEFMFSCIoA"
      },
      "execution_count": null,
      "outputs": []
    },
    {
      "cell_type": "code",
      "source": [
        "# Locations\n",
        "launchsite = things.Location(\n",
        "    \"Launch Site\",\n",
        "    \"You are at the Mars launch site. Your rocket stands nearby, ready for departure.\"\n",
        ")\n",
        "crater = things.Location(\n",
        "    \"Crater\",\n",
        "    \"You are in a large crater. The rocky Martian landscape stretches out around you.\"\n",
        ")\n",
        "mine = things.Location(\n",
        "    \"Mine\",\n",
        "    \"You are in a dark, cavernous mine. Strange minerals glitter on the walls.\"\n",
        ")\n",
        "\n",
        "# Map of Locations\n",
        "launchsite.add_connection(\"east\", crater)\n",
        "crater.add_connection(\"west\", launchsite)\n",
        "crater.add_connection(\"south\", mine)\n",
        "mine.add_connection(\"north\", crater)"
      ],
      "metadata": {
        "id": "mHJKYK7KCNNq"
      },
      "execution_count": null,
      "outputs": []
    },
    {
      "cell_type": "code",
      "source": [
        "# Items\n",
        "map_item = things.Item(\n",
        "    \"map\",\n",
        "    \"a Martian map\",\n",
        "    \"A MAP SHOWING KEY LOCATIONS ON MARS.\"\n",
        ")\n",
        "launchsite.add_item(map_item)\n",
        "\n",
        "key = things.Item(\n",
        "    \"key\",\n",
        "    \"a rusty key\",\n",
        "    \"AN OLD KEY THAT MIGHT UNLOCK SOMETHING.\"\n",
        ")\n",
        "crater.add_item(key)\n",
        "\n",
        "healer = things.Item(\n",
        "    \"healer\",\n",
        "    \"the Healer element\",\n",
        "    \"A GLOWING SUBSTANCE THAT CAN SAVE EARTH.\"\n",
        ")\n",
        "mine.add_item(healer)"
      ],
      "metadata": {
        "id": "O_GdduygCQek"
      },
      "execution_count": null,
      "outputs": []
    },
    {
      "cell_type": "code",
      "source": [
        "# Player\n",
        "player = things.Character(\n",
        "    name=\"Astronaut\",\n",
        "    description=\"A brave astronaut on a mission to save Earth.\",\n",
        "    persona=\"I must find the Healer element and return to Earth!\",\n",
        ")"
      ],
      "metadata": {
        "id": "WGIZHN9kCSBP"
      },
      "execution_count": null,
      "outputs": []
    },
    {
      "cell_type": "code",
      "source": [
        "class LaunchRocket(actions.Action):\n",
        "    ACTION_NAME = \"launch rocket\"\n",
        "    ACTION_DESCRIPTION = \"Launch the rocket to return to Earth\"\n",
        "    ACTION_ALIASES = [\"blast off\", \"return to earth\"]\n",
        "\n",
        "    def __init__(self, game, command):\n",
        "        super().__init__(game)\n",
        "        self.character = self.game.player\n",
        "\n",
        "    def check_preconditions(self) -> bool:\n",
        "        if self.character.location.name != \"Launch Site\":\n",
        "            self.game.parser.fail(\"You need to be at the Launch Site to launch the rocket.\")\n",
        "            return False\n",
        "        if \"healer\" not in self.character.inventory:\n",
        "            self.game.parser.fail(\"You need the Healer element to save Earth!\")\n",
        "            return False\n",
        "        return True\n",
        "\n",
        "    def apply_effects(self):\n",
        "        self.game.parser.ok(\"You launch the rocket with the Healer element on board. Earth is saved! You win!\")\n",
        "        self.character.set_property(\"has_won\", True)"
      ],
      "metadata": {
        "id": "DUZETU1LCUma"
      },
      "execution_count": null,
      "outputs": []
    },
    {
      "cell_type": "code",
      "source": [
        "# Blocks\n",
        "class MineLock(blocks.Block):\n",
        "    def __init__(self, location: things.Location, game: games.Game):\n",
        "        super().__init__(\"The mine entrance is locked\", \"You need a key to enter the mine.\")\n",
        "        self.location = location\n",
        "        self.game = game\n",
        "\n",
        "    def is_blocked(self) -> bool:\n",
        "        player = self.game.player\n",
        "        if \"key\" not in player.inventory:\n",
        "            return True\n",
        "        return False\n",
        "\n",
        "# Add the MineLock to the crater's south exit\n",
        "mine_lock = MineLock(crater, None)  # We don't have a separate door item\n",
        "crater.add_block(\"south\", mine_lock)"
      ],
      "metadata": {
        "id": "qaSQ_roXCWw_"
      },
      "execution_count": null,
      "outputs": []
    },
    {
      "cell_type": "code",
      "source": [
        "class EscapeMars(games.Game):\n",
        "    def __init__(self, start_at: things.Location, player: things.Character, custom_actions=None):\n",
        "        super().__init__(start_at, player, custom_actions=custom_actions)\n",
        "\n",
        "        # Add the MineLock to the crater's south exit\n",
        "        crater = self.locations[\"Crater\"]\n",
        "        mine_lock = MineLock(crater, self)\n",
        "        crater.add_block(\"south\", mine_lock)\n",
        "\n",
        "    def is_won(self) -> bool:\n",
        "        has_won = self.player.get_property(\"has_won\")\n",
        "        return has_won is True"
      ],
      "metadata": {
        "id": "rzb9aujNCZHd"
      },
      "execution_count": null,
      "outputs": []
    },
    {
      "cell_type": "code",
      "source": [
        "custom_actions = [LaunchRocket]\n",
        "game = EscapeMars(launchsite, player, custom_actions=custom_actions)\n",
        "\n",
        "# Start the game\n",
        "game.game_loop()"
      ],
      "metadata": {
        "colab": {
          "base_uri": "https://localhost:8080/"
        },
        "id": "sxG0gjBLCEpg",
        "outputId": "ff2b8b13-8ba9-4c1c-99f5-64941b678802"
      },
      "execution_count": null,
      "outputs": [
        {
          "output_type": "stream",
          "name": "stdout",
          "text": [
            "You are at the Mars launch site. Your rocket stands nearby, ready for departure.\n",
            "Exits:\n",
            "East to Crater\n",
            "\n",
            "You see:\n",
            " * a Martian map\n",
            "\n",
            "\n",
            "\n",
            "> take map\n",
            "Astronaut got the map.\n",
            "\n",
            "> go east\n",
            "You are in a large crater. The rocky Martian landscape stretches out around you.\n",
            "Exits:\n",
            "West to Launch Site\n",
            "South to Mine\n",
            "\n",
            "You see:\n",
            " * a rusty key\n",
            "\n",
            "\n",
            "\n",
            "> take key\n",
            "Astronaut got the key.\n",
            "\n",
            "> go south\n",
            "You are in a dark, cavernous mine. Strange minerals glitter on the walls.\n",
            "Exits:\n",
            "North to Crater\n",
            "\n",
            "You see:\n",
            " * the Healer element\n",
            "\n",
            "\n",
            "\n",
            "> take healer\n",
            "Astronaut got the healer.\n",
            "\n",
            "> go north\n",
            "You are in a large crater. The rocky Martian landscape stretches out around you.\n",
            "Exits:\n",
            "West to Launch Site\n",
            "South to Mine\n",
            "\n",
            "\n",
            "\n",
            "\n",
            "\n",
            "> go west\n",
            "You are at the Mars launch site. Your rocket stands nearby, ready for departure.\n",
            "Exits:\n",
            "East to Crater\n",
            "\n",
            "\n",
            "\n",
            "\n",
            "\n",
            "> launch rocket\n",
            "You launch the rocket with the Healer element on board. Earth is saved! You win!\n"
          ]
        }
      ]
    },
    {
      "cell_type": "code",
      "source": [
        "from text_adventure_games.viz import Visualizer\n",
        "viz = Visualizer(game)\n",
        "graph = viz.visualize()\n",
        "graph"
      ],
      "metadata": {
        "id": "UiRUZkBmCcC-",
        "colab": {
          "base_uri": "https://localhost:8080/",
          "height": 498
        },
        "outputId": "900dc831-f477-4077-b678-f6f7cb2de3ec"
      },
      "execution_count": null,
      "outputs": [
        {
          "output_type": "execute_result",
          "data": {
            "image/svg+xml": "<?xml version=\"1.0\" encoding=\"UTF-8\" standalone=\"no\"?>\n<!DOCTYPE svg PUBLIC \"-//W3C//DTD SVG 1.1//EN\"\n \"http://www.w3.org/Graphics/SVG/1.1/DTD/svg11.dtd\">\n<!-- Generated by graphviz version 2.43.0 (0)\n -->\n<!-- Title: %3 Pages: 1 -->\n<svg width=\"651pt\" height=\"357pt\"\n viewBox=\"0.00 0.00 651.47 356.93\" xmlns=\"http://www.w3.org/2000/svg\" xmlns:xlink=\"http://www.w3.org/1999/xlink\">\n<g id=\"graph0\" class=\"graph\" transform=\"scale(1 1) rotate(0) translate(4 352.93)\">\n<title>%3</title>\n<polygon fill=\"white\" stroke=\"transparent\" points=\"-4,4 -4,-352.93 647.47,-352.93 647.47,4 -4,4\"/>\n<!-- Launch Site -->\n<g id=\"node1\" class=\"node\">\n<title>Launch Site</title>\n<ellipse fill=\"#b2dfee\" stroke=\"#b2dfee\" cx=\"321.73\" cy=\"-303.68\" rx=\"319.72\" ry=\"45.01\"/>\n<text text-anchor=\"start\" x=\"286.73\" y=\"-321.48\" font-family=\"Times,serif\" font-weight=\"bold\" font-size=\"14.00\">Launch Site</text>\n<text text-anchor=\"start\" x=\"103.73\" y=\"-307.48\" font-family=\"Times,serif\" font-size=\"14.00\">You are at the Mars launch site. Your rocket stands nearby, ready for departure.</text>\n<text text-anchor=\"start\" x=\"253.73\" y=\"-293.48\" font-family=\"Times,serif\" font-size=\"14.00\">You see: a Martian map </text>\n<text text-anchor=\"start\" x=\"262.73\" y=\"-279.48\" font-family=\"Times,serif\" font-size=\"14.00\">Characters: Astronaut</text>\n</g>\n<!-- Crater -->\n<g id=\"node2\" class=\"node\">\n<title>Crater</title>\n<ellipse fill=\"#b2dfee\" stroke=\"#b2dfee\" cx=\"321.73\" cy=\"-172.07\" rx=\"321.97\" ry=\"35.21\"/>\n<text text-anchor=\"start\" x=\"301.73\" y=\"-182.87\" font-family=\"Times,serif\" font-weight=\"bold\" font-size=\"14.00\">Crater</text>\n<text text-anchor=\"start\" x=\"102.23\" y=\"-168.87\" font-family=\"Times,serif\" font-size=\"14.00\">You are in a large crater. The rocky Martian landscape stretches out around you.</text>\n<text text-anchor=\"start\" x=\"264.23\" y=\"-154.87\" font-family=\"Times,serif\" font-size=\"14.00\">You see: a rusty key </text>\n</g>\n<!-- Launch Site&#45;&gt;Crater -->\n<g id=\"edge1\" class=\"edge\">\n<title>Launch Site&#45;&gt;Crater</title>\n<path fill=\"none\" stroke=\"black\" d=\"M301.6,-258.44C298.82,-247.71 297.56,-236.22 299.73,-225.42 300.27,-222.75 300.95,-220.04 301.73,-217.34\"/>\n<polygon fill=\"black\" stroke=\"black\" points=\"305.12,-218.25 304.95,-207.66 298.48,-216.04 305.12,-218.25\"/>\n<text text-anchor=\"middle\" x=\"311.73\" y=\"-229.22\" font-family=\"Times,serif\" font-size=\"14.00\">East</text>\n</g>\n<!-- Crater&#45;&gt;Launch Site -->\n<g id=\"edge2\" class=\"edge\">\n<title>Crater&#45;&gt;Launch Site</title>\n<path fill=\"none\" stroke=\"black\" d=\"M323.24,-207.7C323.45,-213.61 323.62,-219.69 323.73,-225.42 323.87,-232.71 323.86,-240.38 323.76,-247.94\"/>\n<polygon fill=\"black\" stroke=\"black\" points=\"320.26,-248.09 323.57,-258.15 327.26,-248.22 320.26,-248.09\"/>\n<text text-anchor=\"middle\" x=\"337.73\" y=\"-229.22\" font-family=\"Times,serif\" font-size=\"14.00\">West</text>\n</g>\n<!-- Mine -->\n<g id=\"node3\" class=\"node\">\n<title>Mine</title>\n<ellipse fill=\"#b2dfee\" stroke=\"#b2dfee\" cx=\"321.73\" cy=\"-35.36\" rx=\"292.98\" ry=\"35.21\"/>\n<text text-anchor=\"start\" x=\"306.23\" y=\"-46.16\" font-family=\"Times,serif\" font-weight=\"bold\" font-size=\"14.00\">Mine</text>\n<text text-anchor=\"start\" x=\"122.73\" y=\"-32.16\" font-family=\"Times,serif\" font-size=\"14.00\">You are in a dark, cavernous mine. Strange minerals glitter on the walls.</text>\n<text text-anchor=\"start\" x=\"242.23\" y=\"-18.16\" font-family=\"Times,serif\" font-size=\"14.00\">You see: the Healer element </text>\n</g>\n<!-- Crater&#45;&gt;Mine -->\n<g id=\"edge3\" class=\"edge\">\n<title>Crater&#45;&gt;Mine</title>\n<path fill=\"none\" stroke=\"black\" stroke-dasharray=\"1,5\" d=\"M235.84,-137.92C229.15,-132.42 223.24,-126.06 218.73,-118.71 211.76,-107.35 211.76,-100.08 218.73,-88.71 221.48,-84.23 224.75,-80.12 228.39,-76.35\"/>\n<polygon fill=\"black\" stroke=\"black\" points=\"230.85,-78.85 235.84,-69.51 226.11,-73.69 230.85,-78.85\"/>\n<text text-anchor=\"middle\" x=\"311.73\" y=\"-107.51\" font-family=\"Times,serif\" font-size=\"14.00\">South</text>\n<text text-anchor=\"middle\" x=\"311.73\" y=\"-92.51\" font-family=\"Times,serif\" font-size=\"14.00\">You need a key to enter the mine.</text>\n</g>\n<!-- Mine&#45;&gt;Crater -->\n<g id=\"edge4\" class=\"edge\">\n<title>Mine&#45;&gt;Crater</title>\n<path fill=\"none\" stroke=\"black\" d=\"M389.64,-70.04C395.62,-75.5 400.87,-81.7 404.73,-88.71 411.17,-100.39 411.17,-107.04 404.73,-118.71 402.5,-122.76 399.8,-126.55 396.77,-130.07\"/>\n<polygon fill=\"black\" stroke=\"black\" points=\"394.12,-127.78 389.64,-137.38 399.13,-132.67 394.12,-127.78\"/>\n<text text-anchor=\"middle\" x=\"424.73\" y=\"-100.01\" font-family=\"Times,serif\" font-size=\"14.00\">North</text>\n</g>\n</g>\n</svg>\n",
            "text/plain": [
              "<graphviz.graphs.Digraph at 0x7a5bf4297790>"
            ]
          },
          "metadata": {},
          "execution_count": 11
        }
      ]
    },
    {
      "cell_type": "code",
      "source": [
        "graph.render(\"escape_mars_map\", format=\"svg\", cleanup=True)"
      ],
      "metadata": {
        "colab": {
          "base_uri": "https://localhost:8080/",
          "height": 36
        },
        "id": "Osd1P58oivV0",
        "outputId": "e1befd8d-ebf2-4ba4-95d7-f6fe633658f9"
      },
      "execution_count": null,
      "outputs": [
        {
          "output_type": "execute_result",
          "data": {
            "text/plain": [
              "'escape_mars_map.svg'"
            ],
            "application/vnd.google.colaboratory.intrinsic+json": {
              "type": "string"
            }
          },
          "metadata": {},
          "execution_count": 12
        }
      ]
    },
    {
      "cell_type": "code",
      "source": [],
      "metadata": {
        "id": "NY1ksqIsjAkh"
      },
      "execution_count": null,
      "outputs": []
    }
  ]
}